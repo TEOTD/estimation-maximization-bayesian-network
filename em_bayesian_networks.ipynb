{
 "cells": [
  {
   "metadata": {},
   "cell_type": "markdown",
   "source": [
    "# Problem 2: EM for Bayesian Networks\n",
    "### House Votes Dataset Analysis"
   ],
   "id": "104d9be2558787ed"
  },
  {
   "metadata": {},
   "cell_type": "markdown",
   "source": "## Data Preprocessing",
   "id": "38a1a486881f8371"
  },
  {
   "metadata": {
    "ExecuteTime": {
     "end_time": "2025-05-02T02:29:01.486463Z",
     "start_time": "2025-05-02T02:29:01.047954Z"
    }
   },
   "cell_type": "code",
   "source": "import pandas as pd",
   "id": "7eb197f93b61c660",
   "outputs": [],
   "execution_count": 3
  },
  {
   "metadata": {
    "ExecuteTime": {
     "end_time": "2025-05-02T02:29:01.494296Z",
     "start_time": "2025-05-02T02:29:01.491079Z"
    }
   },
   "cell_type": "code",
   "source": [
    "# Load, preprocess and encode data\n",
    "def preprocess_data(df):\n",
    "    df.columns = ['Party', 'Vote1', 'Vote2']\n",
    "    df['Party'] = df['Party'].map({'democrat': 0, 'republican': 1})\n",
    "    for col in ['Vote1', 'Vote2']:\n",
    "        df[col] = df[col].map({'y': 1, 'n': 0, '?': 2})  # 2 = missing\n",
    "    return df"
   ],
   "id": "ee24e56a731eed25",
   "outputs": [],
   "execution_count": 4
  },
  {
   "metadata": {
    "ExecuteTime": {
     "end_time": "2025-05-02T02:29:01.618690Z",
     "start_time": "2025-05-02T02:29:01.596761Z"
    }
   },
   "cell_type": "code",
   "source": [
    "train_data = preprocess_data(pd.read_csv('house-votes-84.data', header=None).iloc[:300, :3])\n",
    "test_data = preprocess_data(pd.read_csv('house-votes-84.data', header=None).iloc[300:, :3])"
   ],
   "id": "ef0dae686befe104",
   "outputs": [],
   "execution_count": 5
  },
  {
   "metadata": {
    "ExecuteTime": {
     "end_time": "2025-05-02T02:29:01.677559Z",
     "start_time": "2025-05-02T02:29:01.657775Z"
    }
   },
   "cell_type": "code",
   "source": [
    "print(\"Training Data:\")\n",
    "print(train_data.to_markdown())"
   ],
   "id": "d80e06674d90c950",
   "outputs": [
    {
     "name": "stdout",
     "output_type": "stream",
     "text": [
      "Training Data:\n",
      "|     |   Party |   Vote1 |   Vote2 |\n",
      "|----:|--------:|--------:|--------:|\n",
      "|   0 |       1 |       0 |       1 |\n",
      "|   1 |       1 |       0 |       1 |\n",
      "|   2 |       0 |       2 |       1 |\n",
      "|   3 |       0 |       0 |       1 |\n",
      "|   4 |       0 |       1 |       1 |\n",
      "|   5 |       0 |       0 |       1 |\n",
      "|   6 |       0 |       0 |       1 |\n",
      "|   7 |       1 |       0 |       1 |\n",
      "|   8 |       1 |       0 |       1 |\n",
      "|   9 |       0 |       1 |       1 |\n",
      "|  10 |       1 |       0 |       1 |\n",
      "|  11 |       1 |       0 |       1 |\n",
      "|  12 |       0 |       0 |       1 |\n",
      "|  13 |       0 |       1 |       1 |\n",
      "|  14 |       1 |       0 |       1 |\n",
      "|  15 |       1 |       0 |       1 |\n",
      "|  16 |       0 |       1 |       0 |\n",
      "|  17 |       0 |       1 |       2 |\n",
      "|  18 |       1 |       0 |       1 |\n",
      "|  19 |       0 |       1 |       1 |\n",
      "|  20 |       0 |       1 |       1 |\n",
      "|  21 |       0 |       1 |       1 |\n",
      "|  22 |       0 |       1 |       2 |\n",
      "|  23 |       0 |       1 |       1 |\n",
      "|  24 |       0 |       1 |       0 |\n",
      "|  25 |       0 |       1 |       0 |\n",
      "|  26 |       0 |       1 |       0 |\n",
      "|  27 |       0 |       1 |       1 |\n",
      "|  28 |       1 |       1 |       0 |\n",
      "|  29 |       0 |       1 |       1 |\n",
      "|  30 |       1 |       0 |       1 |\n",
      "|  31 |       0 |       1 |       1 |\n",
      "|  32 |       0 |       1 |       1 |\n",
      "|  33 |       1 |       0 |       1 |\n",
      "|  34 |       0 |       1 |       1 |\n",
      "|  35 |       1 |       0 |       1 |\n",
      "|  36 |       1 |       1 |       2 |\n",
      "|  37 |       1 |       1 |       1 |\n",
      "|  38 |       1 |       0 |       1 |\n",
      "|  39 |       0 |       1 |       0 |\n",
      "|  40 |       0 |       1 |       1 |\n",
      "|  41 |       0 |       1 |       1 |\n",
      "|  42 |       0 |       1 |       0 |\n",
      "|  43 |       0 |       1 |       0 |\n",
      "|  44 |       0 |       1 |       1 |\n",
      "|  45 |       0 |       1 |       1 |\n",
      "|  46 |       0 |       1 |       1 |\n",
      "|  47 |       0 |       1 |       0 |\n",
      "|  48 |       0 |       1 |       1 |\n",
      "|  49 |       1 |       0 |       2 |\n",
      "|  50 |       0 |       1 |       1 |\n",
      "|  51 |       1 |       0 |       1 |\n",
      "|  52 |       0 |       1 |       1 |\n",
      "|  53 |       1 |       1 |       1 |\n",
      "|  54 |       0 |       1 |       1 |\n",
      "|  55 |       1 |       0 |       1 |\n",
      "|  56 |       1 |       0 |       1 |\n",
      "|  57 |       1 |       0 |       1 |\n",
      "|  58 |       1 |       0 |       1 |\n",
      "|  59 |       1 |       0 |       1 |\n",
      "|  60 |       0 |       1 |       1 |\n",
      "|  61 |       1 |       0 |       1 |\n",
      "|  62 |       0 |       1 |       1 |\n",
      "|  63 |       0 |       1 |       1 |\n",
      "|  64 |       0 |       1 |       1 |\n",
      "|  65 |       1 |       1 |       1 |\n",
      "|  66 |       1 |       0 |       1 |\n",
      "|  67 |       1 |       0 |       1 |\n",
      "|  68 |       0 |       1 |       2 |\n",
      "|  69 |       0 |       1 |       1 |\n",
      "|  70 |       0 |       1 |       0 |\n",
      "|  71 |       1 |       1 |       1 |\n",
      "|  72 |       0 |       1 |       1 |\n",
      "|  73 |       1 |       1 |       0 |\n",
      "|  74 |       0 |       1 |       0 |\n",
      "|  75 |       0 |       0 |       1 |\n",
      "|  76 |       0 |       0 |       1 |\n",
      "|  77 |       0 |       0 |       1 |\n",
      "|  78 |       0 |       1 |       1 |\n",
      "|  79 |       1 |       0 |       0 |\n",
      "|  80 |       0 |       1 |       0 |\n",
      "|  81 |       0 |       1 |       0 |\n",
      "|  82 |       1 |       0 |       0 |\n",
      "|  83 |       1 |       0 |       0 |\n",
      "|  84 |       1 |       0 |       2 |\n",
      "|  85 |       0 |       0 |       0 |\n",
      "|  86 |       1 |       0 |       0 |\n",
      "|  87 |       1 |       0 |       0 |\n",
      "|  88 |       0 |       0 |       1 |\n",
      "|  89 |       1 |       0 |       0 |\n",
      "|  90 |       0 |       1 |       0 |\n",
      "|  91 |       0 |       1 |       0 |\n",
      "|  92 |       0 |       1 |       1 |\n",
      "|  93 |       0 |       1 |       0 |\n",
      "|  94 |       0 |       1 |       0 |\n",
      "|  95 |       0 |       1 |       0 |\n",
      "|  96 |       0 |       0 |       0 |\n",
      "|  97 |       0 |       1 |       0 |\n",
      "|  98 |       0 |       1 |       1 |\n",
      "|  99 |       1 |       0 |       0 |\n",
      "| 100 |       0 |       1 |       0 |\n",
      "| 101 |       0 |       1 |       0 |\n",
      "| 102 |       0 |       1 |       0 |\n",
      "| 103 |       0 |       1 |       0 |\n",
      "| 104 |       0 |       2 |       2 |\n",
      "| 105 |       0 |       1 |       1 |\n",
      "| 106 |       1 |       0 |       1 |\n",
      "| 107 |       1 |       0 |       2 |\n",
      "| 108 |       0 |       1 |       2 |\n",
      "| 109 |       0 |       1 |       2 |\n",
      "| 110 |       0 |       0 |       0 |\n",
      "| 111 |       1 |       0 |       2 |\n",
      "| 112 |       0 |       0 |       2 |\n",
      "| 113 |       1 |       0 |       2 |\n",
      "| 114 |       0 |       1 |       2 |\n",
      "| 115 |       0 |       0 |       2 |\n",
      "| 116 |       0 |       1 |       0 |\n",
      "| 117 |       1 |       1 |       1 |\n",
      "| 118 |       0 |       0 |       1 |\n",
      "| 119 |       1 |       0 |       0 |\n",
      "| 120 |       1 |       0 |       2 |\n",
      "| 121 |       1 |       0 |       2 |\n",
      "| 122 |       1 |       0 |       0 |\n",
      "| 123 |       1 |       1 |       2 |\n",
      "| 124 |       0 |       0 |       2 |\n",
      "| 125 |       1 |       0 |       2 |\n",
      "| 126 |       1 |       0 |       2 |\n",
      "| 127 |       0 |       0 |       2 |\n",
      "| 128 |       0 |       0 |       2 |\n",
      "| 129 |       0 |       2 |       2 |\n",
      "| 130 |       0 |       1 |       2 |\n",
      "| 131 |       0 |       0 |       0 |\n",
      "| 132 |       1 |       0 |       0 |\n",
      "| 133 |       1 |       0 |       0 |\n",
      "| 134 |       1 |       0 |       0 |\n",
      "| 135 |       1 |       0 |       0 |\n",
      "| 136 |       1 |       0 |       1 |\n",
      "| 137 |       0 |       0 |       2 |\n",
      "| 138 |       0 |       0 |       0 |\n",
      "| 139 |       0 |       1 |       0 |\n",
      "| 140 |       1 |       0 |       0 |\n",
      "| 141 |       1 |       0 |       0 |\n",
      "| 142 |       1 |       0 |       0 |\n",
      "| 143 |       0 |       2 |       1 |\n",
      "| 144 |       0 |       0 |       2 |\n",
      "| 145 |       0 |       0 |       0 |\n",
      "| 146 |       1 |       0 |       1 |\n",
      "| 147 |       0 |       0 |       0 |\n",
      "| 148 |       1 |       0 |       1 |\n",
      "| 149 |       0 |       0 |       0 |\n",
      "| 150 |       1 |       1 |       1 |\n",
      "| 151 |       0 |       1 |       1 |\n",
      "| 152 |       0 |       0 |       1 |\n",
      "| 153 |       0 |       0 |       0 |\n",
      "| 154 |       1 |       0 |       1 |\n",
      "| 155 |       1 |       1 |       1 |\n",
      "| 156 |       1 |       1 |       1 |\n",
      "| 157 |       0 |       0 |       1 |\n",
      "| 158 |       1 |       0 |       1 |\n",
      "| 159 |       0 |       0 |       1 |\n",
      "| 160 |       0 |       0 |       1 |\n",
      "| 161 |       0 |       0 |       0 |\n",
      "| 162 |       0 |       0 |       1 |\n",
      "| 163 |       1 |       0 |       1 |\n",
      "| 164 |       0 |       1 |       1 |\n",
      "| 165 |       0 |       0 |       1 |\n",
      "| 166 |       1 |       1 |       0 |\n",
      "| 167 |       1 |       1 |       0 |\n",
      "| 168 |       0 |       0 |       0 |\n",
      "| 169 |       0 |       1 |       0 |\n",
      "| 170 |       0 |       1 |       0 |\n",
      "| 171 |       1 |       0 |       2 |\n",
      "| 172 |       0 |       0 |       1 |\n",
      "| 173 |       0 |       0 |       0 |\n",
      "| 174 |       0 |       1 |       2 |\n",
      "| 175 |       0 |       0 |       1 |\n",
      "| 176 |       1 |       0 |       0 |\n",
      "| 177 |       0 |       0 |       0 |\n",
      "| 178 |       0 |       2 |       0 |\n",
      "| 179 |       0 |       1 |       0 |\n",
      "| 180 |       0 |       2 |       2 |\n",
      "| 181 |       0 |       0 |       0 |\n",
      "| 182 |       0 |       1 |       2 |\n",
      "| 183 |       0 |       2 |       2 |\n",
      "| 184 |       0 |       0 |       0 |\n",
      "| 185 |       0 |       1 |       0 |\n",
      "| 186 |       0 |       0 |       1 |\n",
      "| 187 |       0 |       1 |       0 |\n",
      "| 188 |       1 |       1 |       2 |\n",
      "| 189 |       0 |       1 |       0 |\n",
      "| 190 |       1 |       0 |       2 |\n",
      "| 191 |       1 |       0 |       1 |\n",
      "| 192 |       0 |       0 |       0 |\n",
      "| 193 |       0 |       0 |       0 |\n",
      "| 194 |       0 |       0 |       0 |\n",
      "| 195 |       1 |       0 |       0 |\n",
      "| 196 |       0 |       0 |       0 |\n",
      "| 197 |       1 |       0 |       2 |\n",
      "| 198 |       0 |       0 |       0 |\n",
      "| 199 |       0 |       1 |       1 |\n",
      "| 200 |       0 |       0 |       0 |\n",
      "| 201 |       0 |       1 |       1 |\n",
      "| 202 |       0 |       1 |       0 |\n",
      "| 203 |       0 |       1 |       0 |\n",
      "| 204 |       1 |       0 |       0 |\n",
      "| 205 |       0 |       0 |       0 |\n",
      "| 206 |       1 |       0 |       0 |\n",
      "| 207 |       1 |       1 |       2 |\n",
      "| 208 |       0 |       0 |       0 |\n",
      "| 209 |       0 |       1 |       1 |\n",
      "| 210 |       0 |       0 |       0 |\n",
      "| 211 |       1 |       0 |       1 |\n",
      "| 212 |       0 |       0 |       0 |\n",
      "| 213 |       0 |       0 |       1 |\n",
      "| 214 |       1 |       1 |       1 |\n",
      "| 215 |       0 |       0 |       1 |\n",
      "| 216 |       0 |       1 |       1 |\n",
      "| 217 |       1 |       0 |       1 |\n",
      "| 218 |       0 |       1 |       2 |\n",
      "| 219 |       0 |       0 |       1 |\n",
      "| 220 |       0 |       0 |       0 |\n",
      "| 221 |       0 |       0 |       1 |\n",
      "| 222 |       0 |       1 |       0 |\n",
      "| 223 |       1 |       0 |       0 |\n",
      "| 224 |       1 |       0 |       1 |\n",
      "| 225 |       1 |       0 |       2 |\n",
      "| 226 |       0 |       0 |       0 |\n",
      "| 227 |       0 |       1 |       0 |\n",
      "| 228 |       1 |       0 |       1 |\n",
      "| 229 |       1 |       0 |       1 |\n",
      "| 230 |       1 |       0 |       1 |\n",
      "| 231 |       1 |       0 |       1 |\n",
      "| 232 |       0 |       0 |       1 |\n",
      "| 233 |       1 |       0 |       1 |\n",
      "| 234 |       0 |       0 |       0 |\n",
      "| 235 |       1 |       0 |       0 |\n",
      "| 236 |       0 |       0 |       0 |\n",
      "| 237 |       0 |       1 |       0 |\n",
      "| 238 |       0 |       1 |       1 |\n",
      "| 239 |       1 |       0 |       0 |\n",
      "| 240 |       1 |       0 |       0 |\n",
      "| 241 |       0 |       1 |       0 |\n",
      "| 242 |       1 |       0 |       0 |\n",
      "| 243 |       0 |       0 |       1 |\n",
      "| 244 |       0 |       1 |       0 |\n",
      "| 245 |       0 |       1 |       0 |\n",
      "| 246 |       0 |       0 |       0 |\n",
      "| 247 |       1 |       0 |       1 |\n",
      "| 248 |       1 |       2 |       2 |\n",
      "| 249 |       0 |       1 |       0 |\n",
      "| 250 |       1 |       0 |       1 |\n",
      "| 251 |       1 |       0 |       1 |\n",
      "| 252 |       0 |       1 |       1 |\n",
      "| 253 |       1 |       0 |       1 |\n",
      "| 254 |       0 |       1 |       0 |\n",
      "| 255 |       0 |       1 |       0 |\n",
      "| 256 |       1 |       0 |       0 |\n",
      "| 257 |       1 |       0 |       0 |\n",
      "| 258 |       0 |       0 |       0 |\n",
      "| 259 |       0 |       1 |       0 |\n",
      "| 260 |       0 |       1 |       0 |\n",
      "| 261 |       0 |       1 |       0 |\n",
      "| 262 |       0 |       1 |       0 |\n",
      "| 263 |       0 |       1 |       0 |\n",
      "| 264 |       0 |       1 |       0 |\n",
      "| 265 |       0 |       1 |       0 |\n",
      "| 266 |       1 |       0 |       0 |\n",
      "| 267 |       1 |       1 |       0 |\n",
      "| 268 |       0 |       1 |       0 |\n",
      "| 269 |       0 |       1 |       0 |\n",
      "| 270 |       0 |       1 |       1 |\n",
      "| 271 |       0 |       0 |       1 |\n",
      "| 272 |       0 |       1 |       0 |\n",
      "| 273 |       1 |       0 |       0 |\n",
      "| 274 |       1 |       1 |       0 |\n",
      "| 275 |       0 |       0 |       0 |\n",
      "| 276 |       1 |       0 |       0 |\n",
      "| 277 |       1 |       0 |       0 |\n",
      "| 278 |       1 |       0 |       0 |\n",
      "| 279 |       1 |       0 |       0 |\n",
      "| 280 |       0 |       0 |       0 |\n",
      "| 281 |       1 |       1 |       0 |\n",
      "| 282 |       1 |       1 |       0 |\n",
      "| 283 |       1 |       0 |       0 |\n",
      "| 284 |       0 |       0 |       0 |\n",
      "| 285 |       0 |       0 |       0 |\n",
      "| 286 |       0 |       0 |       0 |\n",
      "| 287 |       0 |       1 |       1 |\n",
      "| 288 |       0 |       1 |       1 |\n",
      "| 289 |       0 |       1 |       1 |\n",
      "| 290 |       0 |       1 |       0 |\n",
      "| 291 |       0 |       1 |       0 |\n",
      "| 292 |       0 |       1 |       0 |\n",
      "| 293 |       0 |       1 |       1 |\n",
      "| 294 |       0 |       0 |       1 |\n",
      "| 295 |       1 |       0 |       1 |\n",
      "| 296 |       1 |       0 |       0 |\n",
      "| 297 |       0 |       1 |       1 |\n",
      "| 298 |       0 |       0 |       1 |\n",
      "| 299 |       0 |       0 |       1 |\n"
     ]
    }
   ],
   "execution_count": 6
  },
  {
   "metadata": {
    "ExecuteTime": {
     "end_time": "2025-05-02T02:29:01.845388Z",
     "start_time": "2025-05-02T02:29:01.837985Z"
    }
   },
   "cell_type": "code",
   "source": [
    "print(\"Testing Data:\")\n",
    "print(test_data.to_markdown())"
   ],
   "id": "6446718427f5a511",
   "outputs": [
    {
     "name": "stdout",
     "output_type": "stream",
     "text": [
      "Testing Data:\n",
      "|     |   Party |   Vote1 |   Vote2 |\n",
      "|----:|--------:|--------:|--------:|\n",
      "| 300 |       1 |       0 |       0 |\n",
      "| 301 |       0 |       0 |       0 |\n",
      "| 302 |       1 |       0 |       0 |\n",
      "| 303 |       1 |       0 |       0 |\n",
      "| 304 |       1 |       0 |       1 |\n",
      "| 305 |       1 |       0 |       0 |\n",
      "| 306 |       1 |       0 |       0 |\n",
      "| 307 |       0 |       1 |       0 |\n",
      "| 308 |       1 |       0 |       0 |\n",
      "| 309 |       0 |       1 |       0 |\n",
      "| 310 |       1 |       0 |       0 |\n",
      "| 311 |       0 |       0 |       0 |\n",
      "| 312 |       0 |       1 |       1 |\n",
      "| 313 |       1 |       0 |       1 |\n",
      "| 314 |       1 |       0 |       1 |\n",
      "| 315 |       1 |       0 |       1 |\n",
      "| 316 |       0 |       0 |       0 |\n",
      "| 317 |       0 |       1 |       0 |\n",
      "| 318 |       0 |       0 |       0 |\n",
      "| 319 |       0 |       1 |       0 |\n",
      "| 320 |       0 |       0 |       1 |\n",
      "| 321 |       0 |       1 |       1 |\n",
      "| 322 |       0 |       1 |       1 |\n",
      "| 323 |       0 |       1 |       1 |\n",
      "| 324 |       1 |       0 |       1 |\n",
      "| 325 |       0 |       0 |       1 |\n",
      "| 326 |       0 |       1 |       1 |\n",
      "| 327 |       1 |       0 |       1 |\n",
      "| 328 |       0 |       1 |       1 |\n",
      "| 329 |       0 |       1 |       2 |\n",
      "| 330 |       1 |       0 |       1 |\n",
      "| 331 |       0 |       1 |       2 |\n",
      "| 332 |       0 |       1 |       0 |\n",
      "| 333 |       0 |       0 |       0 |\n",
      "| 334 |       0 |       0 |       1 |\n",
      "| 335 |       1 |       0 |       0 |\n",
      "| 336 |       0 |       0 |       0 |\n",
      "| 337 |       0 |       1 |       0 |\n",
      "| 338 |       0 |       1 |       0 |\n",
      "| 339 |       1 |       1 |       0 |\n",
      "| 340 |       1 |       0 |       0 |\n",
      "| 341 |       0 |       0 |       2 |\n",
      "| 342 |       0 |       0 |       1 |\n",
      "| 343 |       1 |       0 |       0 |\n",
      "| 344 |       0 |       0 |       0 |\n",
      "| 345 |       1 |       0 |       0 |\n",
      "| 346 |       1 |       0 |       0 |\n",
      "| 347 |       1 |       1 |       0 |\n",
      "| 348 |       0 |       1 |       0 |\n",
      "| 349 |       1 |       0 |       1 |\n",
      "| 350 |       0 |       0 |       1 |\n",
      "| 351 |       1 |       0 |       0 |\n",
      "| 352 |       0 |       0 |       1 |\n",
      "| 353 |       1 |       0 |       0 |\n",
      "| 354 |       0 |       0 |       1 |\n",
      "| 355 |       1 |       1 |       0 |\n",
      "| 356 |       1 |       0 |       0 |\n",
      "| 357 |       1 |       0 |       0 |\n",
      "| 358 |       0 |       1 |       1 |\n",
      "| 359 |       1 |       0 |       0 |\n",
      "| 360 |       0 |       1 |       0 |\n",
      "| 361 |       0 |       1 |       0 |\n",
      "| 362 |       0 |       1 |       1 |\n",
      "| 363 |       1 |       1 |       1 |\n",
      "| 364 |       1 |       1 |       1 |\n",
      "| 365 |       0 |       0 |       1 |\n",
      "| 366 |       0 |       1 |       0 |\n",
      "| 367 |       0 |       1 |       1 |\n",
      "| 368 |       0 |       0 |       1 |\n",
      "| 369 |       1 |       0 |       1 |\n",
      "| 370 |       0 |       1 |       1 |\n",
      "| 371 |       0 |       1 |       1 |\n",
      "| 372 |       0 |       0 |       1 |\n",
      "| 373 |       0 |       0 |       1 |\n",
      "| 374 |       1 |       0 |       1 |\n",
      "| 375 |       0 |       0 |       1 |\n",
      "| 376 |       0 |       1 |       2 |\n",
      "| 377 |       1 |       0 |       1 |\n",
      "| 378 |       1 |       0 |       0 |\n",
      "| 379 |       1 |       0 |       0 |\n",
      "| 380 |       0 |       1 |       1 |\n",
      "| 381 |       0 |       1 |       1 |\n",
      "| 382 |       0 |       1 |       1 |\n",
      "| 383 |       0 |       1 |       1 |\n",
      "| 384 |       0 |       1 |       1 |\n",
      "| 385 |       0 |       1 |       1 |\n",
      "| 386 |       0 |       0 |       2 |\n",
      "| 387 |       0 |       1 |       1 |\n",
      "| 388 |       0 |       0 |       1 |\n",
      "| 389 |       0 |       1 |       0 |\n",
      "| 390 |       0 |       2 |       2 |\n",
      "| 391 |       0 |       1 |       1 |\n",
      "| 392 |       1 |       1 |       1 |\n",
      "| 393 |       1 |       2 |       2 |\n",
      "| 394 |       0 |       1 |       1 |\n",
      "| 395 |       0 |       1 |       1 |\n",
      "| 396 |       0 |       1 |       1 |\n",
      "| 397 |       0 |       1 |       1 |\n",
      "| 398 |       0 |       0 |       1 |\n",
      "| 399 |       1 |       0 |       1 |\n",
      "| 400 |       1 |       0 |       1 |\n",
      "| 401 |       1 |       0 |       1 |\n",
      "| 402 |       1 |       2 |       0 |\n",
      "| 403 |       1 |       0 |       1 |\n",
      "| 404 |       1 |       1 |       1 |\n",
      "| 405 |       1 |       0 |       0 |\n",
      "| 406 |       0 |       1 |       0 |\n",
      "| 407 |       0 |       0 |       0 |\n",
      "| 408 |       0 |       1 |       0 |\n",
      "| 409 |       1 |       0 |       0 |\n",
      "| 410 |       1 |       0 |       0 |\n",
      "| 411 |       0 |       1 |       0 |\n",
      "| 412 |       1 |       0 |       0 |\n",
      "| 413 |       1 |       1 |       1 |\n",
      "| 414 |       0 |       1 |       1 |\n",
      "| 415 |       0 |       0 |       1 |\n",
      "| 416 |       1 |       1 |       1 |\n",
      "| 417 |       0 |       1 |       1 |\n",
      "| 418 |       0 |       1 |       1 |\n",
      "| 419 |       0 |       1 |       1 |\n",
      "| 420 |       1 |       1 |       1 |\n",
      "| 421 |       0 |       0 |       1 |\n",
      "| 422 |       0 |       0 |       0 |\n",
      "| 423 |       0 |       0 |       1 |\n",
      "| 424 |       0 |       0 |       1 |\n",
      "| 425 |       0 |       0 |       0 |\n",
      "| 426 |       0 |       1 |       0 |\n",
      "| 427 |       1 |       0 |       0 |\n",
      "| 428 |       0 |       2 |       2 |\n",
      "| 429 |       0 |       1 |       0 |\n",
      "| 430 |       1 |       0 |       0 |\n",
      "| 431 |       0 |       0 |       0 |\n",
      "| 432 |       1 |       0 |       2 |\n",
      "| 433 |       1 |       0 |       0 |\n",
      "| 434 |       1 |       0 |       1 |\n"
     ]
    }
   ],
   "execution_count": 7
  },
  {
   "metadata": {
    "ExecuteTime": {
     "end_time": "2025-05-02T02:29:02.033044Z",
     "start_time": "2025-05-02T02:29:02.030212Z"
    }
   },
   "cell_type": "code",
   "source": [
    "print(\"Train Data Length:\", len(train_data))\n",
    "print(\"Test Data Length:\", len(test_data))"
   ],
   "id": "5b3f88af27b1ca76",
   "outputs": [
    {
     "name": "stdout",
     "output_type": "stream",
     "text": [
      "Train Data Length: 300\n",
      "Test Data Length: 135\n"
     ]
    }
   ],
   "execution_count": 8
  },
  {
   "metadata": {
    "ExecuteTime": {
     "end_time": "2025-05-02T02:29:02.739832Z",
     "start_time": "2025-05-02T02:29:02.733359Z"
    }
   },
   "cell_type": "code",
   "source": [
    "train_data = train_data.dropna(subset=['Party'])  # Remove rows with missing Party\n",
    "test_data = test_data.dropna(subset=['Party'])  # Remove rows with missing Party"
   ],
   "id": "49019073be227c18",
   "outputs": [],
   "execution_count": 9
  },
  {
   "metadata": {
    "ExecuteTime": {
     "end_time": "2025-05-02T02:29:03.083293Z",
     "start_time": "2025-05-02T02:29:03.079604Z"
    }
   },
   "cell_type": "code",
   "source": [
    "print(\"Train Data Length after dropping missing party:\", len(train_data))\n",
    "print(\"Test Data Length after dropping missing party:\", len(test_data))"
   ],
   "id": "2d4de4275178fb95",
   "outputs": [
    {
     "name": "stdout",
     "output_type": "stream",
     "text": [
      "Train Data Length after dropping missing party: 300\n",
      "Test Data Length after dropping missing party: 135\n"
     ]
    }
   ],
   "execution_count": 10
  },
  {
   "metadata": {},
   "cell_type": "markdown",
   "source": "## Define DAG Structures",
   "id": "dbd18279b182a41c"
  },
  {
   "metadata": {
    "ExecuteTime": {
     "end_time": "2025-05-02T02:29:04.381307Z",
     "start_time": "2025-05-02T02:29:04.377134Z"
    }
   },
   "cell_type": "code",
   "source": [
    "# Eight possible DAGs for 3 variables\n",
    "dags = [\n",
    "    {0: [], 1: [0], 2: [1]},  # Party → Vote1 → Vote2\n",
    "    {0: [], 2: [0], 1: [2]},  # Party → Vote2 → Vote1\n",
    "    {1: [], 0: [1], 2: [0]},  # Vote1 → Party → Vote2\n",
    "    {2: [], 0: [2], 1: [0]},  # Vote2 → Party → Vote1\n",
    "    {0: [], 1: [0], 2: [0]},  # Party → Vote1, Party → Vote2\n",
    "    {1: [], 2: [], 0: [1, 2]},  # Vote1 → Party, Vote2 → Party\n",
    "    {1: [], 0: [1], 2: [1]},  # Vote1 → Party, Vote1 → Vote2\n",
    "    {2: [], 0: [2], 1: [2]},  # Vote2 → Party, Vote2 → Vote1\n",
    "]"
   ],
   "id": "894727d4abdbbe01",
   "outputs": [],
   "execution_count": 11
  },
  {
   "metadata": {},
   "cell_type": "markdown",
   "source": "## EM Algorithm Implementation",
   "id": "8abb35379a97bea4"
  },
  {
   "metadata": {
    "ExecuteTime": {
     "end_time": "2025-05-02T02:29:06.124274Z",
     "start_time": "2025-05-02T02:29:06.119495Z"
    }
   },
   "cell_type": "code",
   "source": [
    "import numpy as np\n",
    "from itertools import product"
   ],
   "id": "adf8a6aebab05a96",
   "outputs": [],
   "execution_count": 12
  },
  {
   "metadata": {},
   "cell_type": "markdown",
   "source": [
    "The `learn_bn` function implements the **Expectation-Maximization (EM)** algorithm to learn the **Conditional Probability Tables (CPTs)** of a **Bayesian Network (BN)** from partially observed data.\n",
    "\n",
    "#### **Inputs**:\n",
    "- `dag`:  The **Directed Acyclic Graph (DAG)** structure defining parent-child relationships in the BN.\n",
    "- `data`:  A dataset with **potential missing values** (encoded as `2`).\n",
    "- `max_iter`:  The **maximum number of EM iterations** to perform.\n",
    "- `eps`:  The **convergence threshold** used to determine when to stop EM iterations.\n"
   ],
   "id": "f6e889ad7aa13920"
  },
  {
   "metadata": {
    "ExecuteTime": {
     "end_time": "2025-05-02T02:29:07.541437Z",
     "start_time": "2025-05-02T02:29:07.532716Z"
    }
   },
   "cell_type": "code",
   "source": [
    "def learn_bn(dag, data, max_iter=100, eps=1e-3):\n",
    "    nodes = [0, 1, 2]\n",
    "    cpts = {}\n",
    "\n",
    "    # Initialize CPTs\n",
    "    for node in nodes:\n",
    "        parents = dag[node]\n",
    "        if not parents:\n",
    "            cpts[node] = np.random.dirichlet([1, 1])\n",
    "        else:\n",
    "            num_parent_states = 2 ** len(parents)\n",
    "            cpts[node] = np.random.dirichlet([1, 1], size=num_parent_states)\n",
    "\n",
    "    print(cpts)\n",
    "    for _ in range(max_iter):\n",
    "        counts = {n: {} for n in nodes}\n",
    "        for _, row in data.iterrows():\n",
    "            observed = {}\n",
    "            missing = []\n",
    "            for n in nodes:\n",
    "                val = row[n]\n",
    "                if val in {0, 1}:\n",
    "                    observed[n] = int(val)\n",
    "                else:\n",
    "                    missing.append(n)\n",
    "\n",
    "            assignments = list(product([0, 1], repeat=len(missing)))\n",
    "            weights = []\n",
    "            for assign in assignments:\n",
    "                full = observed.copy()\n",
    "                full.update(zip(missing, assign))\n",
    "                prob = 1.0\n",
    "                for node in nodes:\n",
    "                    parents = dag[node]\n",
    "                    if parents:\n",
    "                        parent_vals = tuple(full[p] for p in parents)\n",
    "                        parent_idx = sum(v * (2 ** i) for i, v in enumerate(parent_vals))\n",
    "                        prob *= cpts[node][parent_idx, full[node]]  # Now scalar!\n",
    "                    else:\n",
    "                        prob *= cpts[node][full[node]]  # Scalar\n",
    "                weights.append(prob)\n",
    "            total = sum(weights)\n",
    "            if total == 0:  # Now scalar comparison\n",
    "                continue\n",
    "\n",
    "            for i, assign in enumerate(assignments):\n",
    "                full = observed.copy()\n",
    "                full.update(zip(missing, assign))\n",
    "                weight = weights[i] / total\n",
    "                for node in nodes:\n",
    "                    parents = dag[node]\n",
    "                    val = full[node]\n",
    "                    if parents:\n",
    "                        parent_vals = tuple(full[p] for p in parents)\n",
    "                        parent_idx = sum(v * (2 ** i) for i, v in enumerate(parent_vals))\n",
    "                        key = (parent_idx, val)\n",
    "                    else:\n",
    "                        key = val\n",
    "                    counts[node][key] = counts[node].get(key, 0.0) + weight\n",
    "\n",
    "        new_cpts = {}\n",
    "        for node in nodes:\n",
    "            parents = dag[node]\n",
    "            if not parents:\n",
    "                total = sum(counts[node].values())\n",
    "                new_cpts[node] = np.array([\n",
    "                    counts[node].get(0, 0) / total,\n",
    "                    counts[node].get(1, 0) / total\n",
    "                ])\n",
    "            else:\n",
    "                num_parent_states = 2 ** len(parents)\n",
    "                new_cpt = np.zeros((num_parent_states, 2))\n",
    "                for config in range(num_parent_states):\n",
    "                    total = sum(counts[node].get((config, v), 0) for v in [0, 1])\n",
    "                    if total == 0:\n",
    "                        new_cpt[config] = cpts[node][config]\n",
    "                    else:\n",
    "                        new_cpt[config, 0] = counts[node].get((config, 0), 0) / total\n",
    "                        new_cpt[config, 1] = counts[node].get((config, 1), 0) / total\n",
    "                new_cpts[node] = new_cpt\n",
    "\n",
    "        converged = all(np.allclose(new_cpts[n], cpts[n], atol=eps) for n in nodes)\n",
    "        if converged:\n",
    "            break\n",
    "        cpts = new_cpts\n",
    "\n",
    "    return cpts"
   ],
   "id": "ca692ebfbe396511",
   "outputs": [],
   "execution_count": 13
  },
  {
   "metadata": {},
   "cell_type": "markdown",
   "source": "#### Part 1: Learn models for each DAG",
   "id": "d83df8ff6b0b2d0"
  },
  {
   "metadata": {
    "ExecuteTime": {
     "end_time": "2025-05-02T02:29:10.511075Z",
     "start_time": "2025-05-02T02:29:10.045691Z"
    }
   },
   "cell_type": "code",
   "source": [
    "learned_models = []\n",
    "for dag in dags:\n",
    "    print(f\"Training DAG: {dag}\")\n",
    "    model = learn_bn(dag, train_data, max_iter=100)\n",
    "    learned_models.append(model)"
   ],
   "id": "bc9b6227b4de88ad",
   "outputs": [
    {
     "name": "stdout",
     "output_type": "stream",
     "text": [
      "Training DAG: {0: [], 1: [0], 2: [1]}\n",
      "{0: array([0.26716497, 0.73283503]), 1: array([[0.08235062, 0.91764938],\n",
      "       [0.82893966, 0.17106034]]), 2: array([[0.5502585 , 0.4497415 ],\n",
      "       [0.01381604, 0.98618396]])}\n",
      "Training DAG: {0: [], 2: [0], 1: [2]}\n",
      "{0: array([0.50704094, 0.49295906]), 1: array([[0.61913882, 0.38086118],\n",
      "       [0.41197283, 0.58802717]]), 2: array([[0.73029033, 0.26970967],\n",
      "       [0.3978362 , 0.6021638 ]])}\n",
      "Training DAG: {1: [], 0: [1], 2: [0]}\n",
      "{0: array([[0.99141639, 0.00858361],\n",
      "       [0.27315027, 0.72684973]]), 1: array([0.16859718, 0.83140282]), 2: array([[0.39434043, 0.60565957],\n",
      "       [0.93644254, 0.06355746]])}\n",
      "Training DAG: {2: [], 0: [2], 1: [0]}\n",
      "{0: array([[0.45084828, 0.54915172],\n",
      "       [0.6323296 , 0.3676704 ]]), 1: array([[0.8522372, 0.1477628],\n",
      "       [0.6578368, 0.3421632]]), 2: array([0.98321889, 0.01678111])}\n"
     ]
    },
    {
     "name": "stderr",
     "output_type": "stream",
     "text": [
      "/tmp/ipykernel_52501/1665483044.py:21: FutureWarning: Series.__getitem__ treating keys as positions is deprecated. In a future version, integer keys will always be treated as labels (consistent with DataFrame behavior). To access a value by position, use `ser.iloc[pos]`\n",
      "  val = row[n]\n"
     ]
    },
    {
     "name": "stdout",
     "output_type": "stream",
     "text": [
      "Training DAG: {0: [], 1: [0], 2: [0]}\n",
      "{0: array([0.62489026, 0.37510974]), 1: array([[0.31595659, 0.68404341],\n",
      "       [0.0185073 , 0.9814927 ]]), 2: array([[0.7489081 , 0.2510919 ],\n",
      "       [0.34479172, 0.65520828]])}\n",
      "Training DAG: {1: [], 2: [], 0: [1, 2]}\n",
      "{0: array([[0.31405889, 0.68594111],\n",
      "       [0.71469361, 0.28530639],\n",
      "       [0.10171686, 0.89828314],\n",
      "       [0.83165487, 0.16834513]]), 1: array([0.31018976, 0.68981024]), 2: array([0.61238591, 0.38761409])}\n",
      "Training DAG: {1: [], 0: [1], 2: [1]}\n",
      "{0: array([[0.98630038, 0.01369962],\n",
      "       [0.33367306, 0.66632694]]), 1: array([0.8131177, 0.1868823]), 2: array([[0.95988612, 0.04011388],\n",
      "       [0.32649347, 0.67350653]])}\n",
      "Training DAG: {2: [], 0: [2], 1: [2]}\n",
      "{0: array([[0.44584024, 0.55415976],\n",
      "       [0.13727337, 0.86272663]]), 1: array([[0.45015073, 0.54984927],\n",
      "       [0.91913409, 0.08086591]]), 2: array([0.41120567, 0.58879433])}\n"
     ]
    }
   ],
   "execution_count": 14
  },
  {
   "metadata": {},
   "cell_type": "markdown",
   "source": "#### Part 2: Check initialization sensitivity",
   "id": "b1a5671cb0a60fd9"
  },
  {
   "metadata": {
    "ExecuteTime": {
     "end_time": "2025-05-01T16:44:50.168735Z",
     "start_time": "2025-05-01T16:44:49.795584Z"
    }
   },
   "cell_type": "code",
   "source": [
    "np.random.seed(42)\n",
    "cpts1 = learn_bn(dags[0], train_data)\n",
    "np.random.seed(123)\n",
    "cpts2 = learn_bn(dags[0], train_data)\n",
    "print(\"\\nDifferent runs produce different models:\", not np.allclose(cpts1[0], cpts2[0]))"
   ],
   "id": "2aadcba176880809",
   "outputs": [
    {
     "name": "stderr",
     "output_type": "stream",
     "text": [
      "/tmp/ipykernel_433484/2144848384.py:21: FutureWarning: Series.__getitem__ treating keys as positions is deprecated. In a future version, integer keys will always be treated as labels (consistent with DataFrame behavior). To access a value by position, use `ser.iloc[pos]`\n",
      "  val = row[n]\n"
     ]
    },
    {
     "name": "stdout",
     "output_type": "stream",
     "text": [
      "\n",
      "Different runs produce different models: False\n"
     ]
    }
   ],
   "execution_count": 61
  },
  {
   "metadata": {},
   "cell_type": "markdown",
   "source": "## Model Evaluation",
   "id": "f66fa16efd575320"
  },
  {
   "metadata": {
    "ExecuteTime": {
     "end_time": "2025-05-01T16:45:01.771688Z",
     "start_time": "2025-05-01T16:45:01.756546Z"
    }
   },
   "cell_type": "code",
   "source": [
    "def predict_party(cpts, dag, vote1, vote2):\n",
    "    # Handle missing votes by marginalization\n",
    "    prob_p0, prob_p1 = 0.0, 0.0\n",
    "    missing = []\n",
    "    votes = {}\n",
    "\n",
    "    # Identify missing votes and store observed votes\n",
    "    if vote1 == 2:\n",
    "        missing.append(1)\n",
    "    else:\n",
    "        votes[1] = vote1\n",
    "    if vote2 == 2:\n",
    "        missing.append(2)\n",
    "    else:\n",
    "        votes[2] = vote2\n",
    "\n",
    "    # Iterate over all possible assignments for missing votes\n",
    "    for assign in product([0, 1], repeat=len(missing)):\n",
    "        full = votes.copy()\n",
    "        full.update(zip(missing, assign))  # Impute missing votes\n",
    "\n",
    "        # === Compute P(Votes, Party=0) ===\n",
    "        # Include Party=0 in the full assignment\n",
    "        full_p0 = full.copy()\n",
    "        full_p0[0] = 0  # Explicitly set Party=0\n",
    "\n",
    "        # Compute P(Party=0, Votes)\n",
    "        p0 = 1.0\n",
    "        for node in [0, 1, 2]:  # Include Party in the computation\n",
    "            parents = dag[node]\n",
    "            if parents:\n",
    "                # Get parent values from the full assignment\n",
    "                parent_vals = tuple(full_p0[p] for p in parents)\n",
    "                parent_idx = sum(v * (2 ** i) for i, v in enumerate(parent_vals))\n",
    "                p0 *= cpts[node][parent_idx, full_p0[node]]\n",
    "            else:\n",
    "                # Root node: use prior probability\n",
    "                p0 *= cpts[node][full_p0[node]]\n",
    "\n",
    "        # === Compute P(Votes, Party=1) ===\n",
    "        # Include Party=1 in the full assignment\n",
    "        full_p1 = full.copy()\n",
    "        full_p1[0] = 1  # Explicitly set Party=1\n",
    "\n",
    "        # Compute P(Party=1, Votes)\n",
    "        p1 = 1.0\n",
    "        for node in [0, 1, 2]:  # Include Party in the computation\n",
    "            parents = dag[node]\n",
    "            if parents:\n",
    "                parent_vals = tuple(full_p1[p] for p in parents)\n",
    "                parent_idx = sum(v * (2 ** i) for i, v in enumerate(parent_vals))\n",
    "                p1 *= cpts[node][parent_idx, full_p1[node]]\n",
    "            else:\n",
    "                p1 *= cpts[node][full_p1[node]]\n",
    "\n",
    "        # Accumulate probabilities\n",
    "        prob_p0 += p0\n",
    "        prob_p1 += p1\n",
    "\n",
    "    # Predict the party with higher probability\n",
    "    return 0 if prob_p0 > prob_p1 else 1"
   ],
   "id": "f35b8a5f15759015",
   "outputs": [],
   "execution_count": 62
  },
  {
   "metadata": {},
   "cell_type": "markdown",
   "source": "#### Part 3: Evaluate models",
   "id": "656a555c64aaa146"
  },
  {
   "metadata": {
    "ExecuteTime": {
     "end_time": "2025-05-01T16:45:05.393172Z",
     "start_time": "2025-05-01T16:45:05.271713Z"
    }
   },
   "cell_type": "code",
   "source": [
    "accuracies = []\n",
    "for i, (dag, cpts) in enumerate(zip(dags, learned_models)):\n",
    "    correct = 0\n",
    "    total = 0\n",
    "    for _, row in test_data.iterrows():\n",
    "        if row['Party'] not in {0, 1}:\n",
    "            continue  # Skip invalid party\n",
    "        vote1 = row['Vote1'] if row['Vote1'] in {0, 1} else 2\n",
    "        vote2 = row['Vote2'] if row['Vote2'] in {0, 1} else 2\n",
    "        pred = predict_party(cpts, dag, vote1, vote2)\n",
    "        correct += (pred == row['Party'])\n",
    "        total += 1\n",
    "    acc = correct / total\n",
    "    accuracies.append(acc)\n",
    "    print(f\"DAG {i + 1} Accuracy: {acc:.4f}\")"
   ],
   "id": "61522eaceff2d4c",
   "outputs": [
    {
     "name": "stdout",
     "output_type": "stream",
     "text": [
      "DAG 1 Accuracy: 0.6815\n",
      "DAG 2 Accuracy: 0.5926\n",
      "DAG 3 Accuracy: 0.6815\n",
      "DAG 4 Accuracy: 0.6815\n",
      "DAG 5 Accuracy: 0.6815\n",
      "DAG 6 Accuracy: 0.6815\n",
      "DAG 7 Accuracy: 0.6815\n",
      "DAG 8 Accuracy: 0.5926\n"
     ]
    }
   ],
   "execution_count": 63
  },
  {
   "metadata": {},
   "cell_type": "markdown",
   "source": "## Results",
   "id": "ae22a2a96086a5f9"
  },
  {
   "metadata": {
    "ExecuteTime": {
     "end_time": "2025-05-01T16:43:45.415095Z",
     "start_time": "2025-05-01T16:43:45.407525Z"
    }
   },
   "cell_type": "code",
   "source": [
    "print(\"\\nFinal Accuracies:\")\n",
    "for i, acc in enumerate(accuracies):\n",
    "    print(f\"DAG {i + 1}: {acc:.4f}\")"
   ],
   "id": "90fd98de4361e6e7",
   "outputs": [
    {
     "name": "stdout",
     "output_type": "stream",
     "text": [
      "\n",
      "Final Accuracies:\n",
      "DAG 1: 0.6815\n",
      "DAG 2: 0.5926\n",
      "DAG 3: 0.6815\n",
      "DAG 4: 0.6815\n",
      "DAG 5: 0.6815\n",
      "DAG 6: 0.6815\n",
      "DAG 7: 0.6815\n",
      "DAG 8: 0.5926\n"
     ]
    }
   ],
   "execution_count": 48
  }
 ],
 "metadata": {
  "kernelspec": {
   "display_name": "Python 3",
   "language": "python",
   "name": "python3"
  },
  "language_info": {
   "codemirror_mode": {
    "name": "ipython",
    "version": 2
   },
   "file_extension": ".py",
   "mimetype": "text/x-python",
   "name": "python",
   "nbconvert_exporter": "python",
   "pygments_lexer": "ipython2",
   "version": "2.7.6"
  }
 },
 "nbformat": 4,
 "nbformat_minor": 5
}
